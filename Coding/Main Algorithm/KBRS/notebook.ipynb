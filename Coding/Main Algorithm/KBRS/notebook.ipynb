{
 "cells": [
  {
   "cell_type": "code",
   "execution_count": 2,
   "id": "7321a0ce",
   "metadata": {},
   "outputs": [
    {
     "name": "stdout",
     "output_type": "stream",
     "text": [
      "             best_persona_match       type  count\n",
      "0               Individu Lajang  Apartemen   1194\n",
      "1               Individu Lajang      Rumah    108\n",
      "2  Pasangan Bekerja dengan Anak  Apartemen    204\n",
      "3  Pasangan Bekerja dengan Anak      Rumah   9158\n",
      "4   Pasangan Bekerja tanpa Anak  Apartemen    330\n",
      "5   Pasangan Bekerja tanpa Anak      Rumah   5154\n"
     ]
    }
   ],
   "source": [
    "import pandas as pd\n",
    "\n",
    "# Load dataset\n",
    "df = pd.read_csv(\"kbrs_dataset_2.csv\")\n",
    "\n",
    "# Group by best_persona_match and type to get counts\n",
    "type_distribution = df.groupby([\"best_persona_match\", \"type\"]).size().reset_index(name=\"count\")\n",
    "\n",
    "# Print nicely\n",
    "print(type_distribution)"
   ]
  },
  {
   "cell_type": "code",
   "execution_count": 3,
   "id": "e0394e55",
   "metadata": {},
   "outputs": [
    {
     "name": "stdout",
     "output_type": "stream",
     "text": [
      "             best_persona_match       type  count\n",
      "0               Individu Lajang  Apartemen   1463\n",
      "1               Individu Lajang      Rumah    646\n",
      "2  Pasangan Bekerja dengan Anak      Rumah     81\n",
      "3   Pasangan Bekerja tanpa Anak  Apartemen    265\n",
      "4   Pasangan Bekerja tanpa Anak      Rumah  13693\n"
     ]
    }
   ],
   "source": [
    "# Load dataset\n",
    "df = pd.read_csv(\"kbrs_dataset_2_v2.csv\")\n",
    "\n",
    "# Group by best_persona_match and type to get counts\n",
    "type_distribution = df.groupby([\"best_persona_match\", \"type\"]).size().reset_index(name=\"count\")\n",
    "\n",
    "# Print nicely\n",
    "print(type_distribution)"
   ]
  },
  {
   "cell_type": "code",
   "execution_count": 1,
   "id": "3dcb4ce6",
   "metadata": {},
   "outputs": [
    {
     "name": "stdout",
     "output_type": "stream",
     "text": [
      "             best_persona_match       type  count\n",
      "0               Individu Lajang  Apartemen   1232\n",
      "1               Individu Lajang      Rumah   1243\n",
      "2  Pasangan Bekerja dengan Anak  Apartemen    223\n",
      "3  Pasangan Bekerja dengan Anak      Rumah  10463\n",
      "4   Pasangan Bekerja tanpa Anak  Apartemen    273\n",
      "5   Pasangan Bekerja tanpa Anak      Rumah   2714\n"
     ]
    }
   ],
   "source": [
    "import pandas as pd\n",
    "\n",
    "# Load dataset\n",
    "df = pd.read_csv(\"kbrs_dataset_3.csv\")\n",
    "\n",
    "# Group by best_persona_match and type to get counts\n",
    "type_distribution = df.groupby([\"best_persona_match\", \"type\"]).size().reset_index(name=\"count\")\n",
    "\n",
    "# Print nicely\n",
    "print(type_distribution)"
   ]
  },
  {
   "cell_type": "code",
   "execution_count": 2,
   "id": "9e8a3262",
   "metadata": {},
   "outputs": [
    {
     "name": "stdout",
     "output_type": "stream",
     "text": [
      "             best_persona_match       type  count\n",
      "0               Individu Lajang  Apartemen   1243\n",
      "1               Individu Lajang      Rumah   1419\n",
      "2  Pasangan Bekerja dengan Anak  Apartemen     72\n",
      "3  Pasangan Bekerja dengan Anak      Rumah   7537\n",
      "4   Pasangan Bekerja tanpa Anak  Apartemen    413\n",
      "5   Pasangan Bekerja tanpa Anak      Rumah   5464\n"
     ]
    }
   ],
   "source": [
    "import pandas as pd\n",
    "\n",
    "# Load dataset\n",
    "df = pd.read_csv(\"kbrs_dataset_3.csv\")\n",
    "\n",
    "# Group by best_persona_match and type to get counts\n",
    "type_distribution = df.groupby([\"best_persona_match\", \"type\"]).size().reset_index(name=\"count\")\n",
    "\n",
    "# Print nicely\n",
    "print(type_distribution)"
   ]
  },
  {
   "cell_type": "code",
   "execution_count": null,
   "id": "e203d1a3",
   "metadata": {},
   "outputs": [],
   "source": [
    "input_pasangan_dengan_anak = {\n",
    "        \"type\": \"rumah\",\n",
    "        \"land_area\": 160,\n",
    "        \"building_area\": 160,\n",
    "        \"bedrooms\": 4,\n",
    "        \"bathrooms\": 3,\n",
    "        \"floors\": 3,\n",
    "        \"HOSPITAL\": 1,\n",
    "        \"SCHOOL\": 1,\n",
    "        \"MARKET\": 1,\n",
    "        \"MALL\": 1,\n",
    "        \"TRANSPORT\": 1,\n",
    "        \"facilities\": [\"AC\", \"CARPORT\", \"GARASI\", \"GARDEN\", \n",
    "                       \"STOVE\", \"OVEN\", \"REFRIGERATOR\", \"MICROWAVE\", \n",
    "                       \"PAM\", \"WATER HEATER\"]\n",
    "    }"
   ]
  },
  {
   "cell_type": "code",
   "execution_count": 1,
   "id": "907078f9",
   "metadata": {},
   "outputs": [
    {
     "name": "stdout",
     "output_type": "stream",
     "text": [
      "CSV berhasil dibuat:\n",
      "- general_persona_summary.csv\n",
      "- city_persona_summary.csv\n"
     ]
    }
   ],
   "source": [
    "import pandas as pd\n",
    "\n",
    "# ---------------------------\n",
    "# Load dataset\n",
    "# ---------------------------\n",
    "file_path = 'kbrs_dataset_2.csv'  # ganti dengan path Anda\n",
    "df = pd.read_csv(file_path)\n",
    "\n",
    "# ---------------------------\n",
    "# Hitung jumlah & persentase general\n",
    "# ---------------------------\n",
    "persona_counts = df['best_persona_match'].value_counts()\n",
    "total_general = persona_counts.sum()\n",
    "persona_percentages_general = (persona_counts / total_general * 100).round(2)\n",
    "\n",
    "# Buat dataframe general\n",
    "general_df = pd.DataFrame({\n",
    "    'Persona': persona_counts.index,\n",
    "    'Count': persona_counts.values,\n",
    "    'Percentage': persona_percentages_general.values\n",
    "})\n",
    "general_df['Summary'] = general_df.apply(\n",
    "    lambda row: f\"{row['Persona']} ({row['Percentage']}%): {row['Count']}\", axis=1\n",
    ")\n",
    "\n",
    "# ---------------------------\n",
    "# Hitung jumlah & persentase per kota\n",
    "# ---------------------------\n",
    "city_persona_counts = df.groupby(['address_city', 'best_persona_match']).size().reset_index(name='count')\n",
    "\n",
    "# Hitung total per kota\n",
    "total_per_city = city_persona_counts.groupby('address_city')['count'].sum().reset_index(name='total_city_count')\n",
    "\n",
    "# Gabungkan & hitung persentase\n",
    "city_persona_with_total = city_persona_counts.merge(total_per_city, on='address_city')\n",
    "city_persona_with_total['percentage'] = (city_persona_with_total['count'] / city_persona_with_total['total_city_count'] * 100).round(2)\n",
    "\n",
    "# Buat summary\n",
    "city_persona_with_total['Summary'] = city_persona_with_total.apply(\n",
    "    lambda row: f\"{row['best_persona_match']} ({row['percentage']}%): {row['count']}\", axis=1\n",
    ")\n",
    "\n",
    "# ---------------------------\n",
    "# Simpan ke CSV\n",
    "# ---------------------------\n",
    "general_df[['Summary']].to_csv('general_persona_summary.csv', index=False)\n",
    "city_persona_with_total[['address_city', 'Summary']].to_csv('city_persona_summary.csv', index=False)\n",
    "\n",
    "print(\"CSV berhasil dibuat:\")\n",
    "print(\"- general_persona_summary.csv\")\n",
    "print(\"- city_persona_summary.csv\")\n"
   ]
  },
  {
   "cell_type": "markdown",
   "id": "c5172209",
   "metadata": {},
   "source": [
    "['premier promenade tipe lavender merupakan tipe rumah 2 lantai yang dilengkapi dengan :', '- luas bangunan 140 m2', '- luas tanah 140 m2', '- 4 kamar tidur', '- 1 kamar tidur pembantu', '- 3 kamar mandi', '- 1 kamar mandi pembantu', '- ruang tamu', '- ruang makan', '- ruang santai', '- dapur', '- taman belakang', '- balkon', '- carport untuk 2 mobil', 'keunggulan dari premier promenade :', '- suasana perumahan yang sejuk.', '- berada di lokasi strategis, depok.', '- dikembangkan oleh developer terpercaya.', '- 2 menit menuju rs anak negeri.', '- 2 menit menuju sd dai an-nur.', '- 5 menit menuju tol depok antasari.', '- 15 menit menuju stasiun citayam.', '- 20 menit menuju cbd jakarta.', '- 25 menit menuju pondok indah mall.', 'fasilitas yang terdapat di premier promenade :', '- club house', '- jogging track', '- kids playground', '- gardenia avenue', '- public facility', '- bbq area', '- 24 hour security']"
   ]
  }
 ],
 "metadata": {
  "kernelspec": {
   "display_name": "Python 3",
   "language": "python",
   "name": "python3"
  },
  "language_info": {
   "codemirror_mode": {
    "name": "ipython",
    "version": 3
   },
   "file_extension": ".py",
   "mimetype": "text/x-python",
   "name": "python",
   "nbconvert_exporter": "python",
   "pygments_lexer": "ipython3",
   "version": "3.11.0"
  }
 },
 "nbformat": 4,
 "nbformat_minor": 5
}
