{
 "cells": [
  {
   "cell_type": "code",
   "execution_count": 1,
   "id": "c7725c39",
   "metadata": {},
   "outputs": [
    {
     "data": {
      "text/plain": [
       "(16148, 32)"
      ]
     },
     "execution_count": 1,
     "metadata": {},
     "output_type": "execute_result"
    }
   ],
   "source": [
    "# Impor library pandas agar bisa memanipulasi data\n",
    "import pandas as pd\n",
    "\n",
    "# Baca dataset dari file CSV\n",
    "df = pd.read_csv(\"jabodetabeksur_olx_housing_dataset.csv\")\n",
    "\n",
    "df.shape           # (jumlah_baris, jumlah_kolom)"
   ]
  },
  {
   "cell_type": "code",
   "execution_count": null,
   "id": "e5af5778",
   "metadata": {},
   "outputs": [],
   "source": []
  },
  {
   "cell_type": "code",
   "execution_count": 9,
   "id": "5f7b69ae",
   "metadata": {},
   "outputs": [
    {
     "data": {
      "text/plain": [
       "url                        0\n",
       "ads_id                     0\n",
       "title                      0\n",
       "price                      0\n",
       "type                       0\n",
       "land_area                  0\n",
       "building_area              0\n",
       "bedrooms                   0\n",
       "bathrooms                  0\n",
       "maid_bedrooms              0\n",
       "maid_bathrooms             0\n",
       "ruang_tamu                 0\n",
       "ruang_makan                0\n",
       "additional_rooms        1604\n",
       "floors                     0\n",
       "certificate              839\n",
       "address                    0\n",
       "address_road               0\n",
       "address_city               0\n",
       "address_district           0\n",
       "address_subdistrict        0\n",
       "garage_capacity            0\n",
       "carport_capacity           0\n",
       "facilities               531\n",
       "description                0\n",
       "posting_date               0\n",
       "posting_date_month         0\n",
       "posting_date_year          0\n",
       "poster                     0\n",
       "electricity_capacity    3786\n",
       "house_orientation       4600\n",
       "image_url                  0\n",
       "dtype: int64"
      ]
     },
     "execution_count": 9,
     "metadata": {},
     "output_type": "execute_result"
    }
   ],
   "source": [
    "df = df.dropna(subset=[\n",
    "  'price', 'type', 'land_area', 'building_area',\n",
    "    'address', 'address_road', 'address_city',\n",
    " 'address_district', 'address_subdistrict'\n",
    "])\n",
    "\n",
    "# Tampilkan jumlah data yang mengandung nilai kosong pada setiap kolom\n",
    "df.isnull().sum()"
   ]
  },
  {
   "cell_type": "code",
   "execution_count": 10,
   "id": "9aa14e4b",
   "metadata": {},
   "outputs": [
    {
     "name": "stdout",
     "output_type": "stream",
     "text": [
      "url                        0\n",
      "ads_id                     0\n",
      "title                      0\n",
      "price                      0\n",
      "type                       0\n",
      "land_area                  0\n",
      "building_area              0\n",
      "bedrooms                   0\n",
      "bathrooms                  0\n",
      "maid_bedrooms              0\n",
      "maid_bathrooms             0\n",
      "ruang_tamu                 0\n",
      "ruang_makan                0\n",
      "additional_rooms        1604\n",
      "floors                     0\n",
      "certificate              839\n",
      "address                    0\n",
      "address_road               0\n",
      "address_city               0\n",
      "address_district           0\n",
      "address_subdistrict        0\n",
      "garage_capacity            0\n",
      "carport_capacity           0\n",
      "facilities               531\n",
      "description                0\n",
      "posting_date               0\n",
      "posting_date_month         0\n",
      "posting_date_year          0\n",
      "poster                     0\n",
      "electricity_capacity    3786\n",
      "house_orientation       4600\n",
      "image_url                  0\n",
      "dtype: int64\n"
     ]
    }
   ],
   "source": [
    "print(df.isnull().sum())"
   ]
  },
  {
   "cell_type": "code",
   "execution_count": 11,
   "id": "376cba89",
   "metadata": {},
   "outputs": [],
   "source": [
    "# Impor library pandas agar bisa memanipulasi data\n",
    "import pandas as pd\n",
    "\n",
    "# Baca dataset dari file CSV\n",
    "df = pd.read_csv(\"jabodetabeksur_olx_housing_dataset.csv\")\n",
    "\n",
    "# Menghapus duplikat berdasarkan kolom 'url' dan 'ads_id'\n",
    "df.drop_duplicates(subset=['url', 'ads_id'], keep='first', inplace=True)"
   ]
  },
  {
   "cell_type": "code",
   "execution_count": 3,
   "id": "2dd1f833",
   "metadata": {},
   "outputs": [],
   "source": [
    "# Impor library pandas agar bisa memanipulasi data\n",
    "import pandas as pd\n",
    "\n",
    "# Baca dataset dari file CSV\n",
    "df = pd.read_csv(\"PropertyProfileMatching_results_031.csv\")\n"
   ]
  },
  {
   "cell_type": "code",
   "execution_count": 6,
   "id": "0596e7c4",
   "metadata": {},
   "outputs": [
    {
     "name": "stdout",
     "output_type": "stream",
     "text": [
      "                                                   url     ads_id  \\\n",
      "282  https://www.olx.co.id/item/dijual-rumah-murah-...  925483365   \n",
      "410  https://www.olx.co.id/item/rumah-taman-sawanga...  808144328   \n",
      "\n",
      "                              title        price   type  land_area  \\\n",
      "282        Dijual rumah murah bagus  950000000.0  Rumah       84.0   \n",
      "410  Rumah Taman Sawangan Residence  435000000.0  Rumah       72.0   \n",
      "\n",
      "     building_area bedrooms bathrooms  maid_bedrooms  ...  carport_capacity  \\\n",
      "282           72.0        4         3              0  ...                 0   \n",
      "410           45.0        2         1              0  ...                 0   \n",
      "\n",
      "                                            facilities  \\\n",
      "282  ['AC', 'Carport', 'Garasi', 'Garden', 'PAM', '...   \n",
      "410                              ['Carport', 'Garden']   \n",
      "\n",
      "                                           description      posting_date  \\\n",
      "282  ['Dijual Rumah Murah Full Renovasi 2 Lantai/Ti...  8 September 2024   \n",
      "410  ['Jual Rumah Murah Bisa Nego', 'Rumah di Taman...     3 August 2024   \n",
      "\n",
      "     posting_date_month posting_date_year        poster electricity_capacity  \\\n",
      "282                   9              2024  Rangga Nanda               2200.0   \n",
      "410                   8              2024          dodi               2200.0   \n",
      "\n",
      "    house_orientation                                          image_url  \n",
      "282           Selatan  ['https://apollo.olx.co.id/v1/files/66dc1a75d3...  \n",
      "410             Barat  ['https://apollo.olx.co.id/v1/files/120oemc26s...  \n",
      "\n",
      "[2 rows x 32 columns]\n"
     ]
    }
   ],
   "source": [
    "print(df.head(2))"
   ]
  },
  {
   "cell_type": "code",
   "execution_count": 4,
   "id": "0c18f5ff",
   "metadata": {},
   "outputs": [
    {
     "name": "stdout",
     "output_type": "stream",
     "text": [
      "<class 'pandas.core.frame.DataFrame'>\n",
      "RangeIndex: 16148 entries, 0 to 16147\n",
      "Data columns (total 32 columns):\n",
      " #   Column                Non-Null Count  Dtype  \n",
      "---  ------                --------------  -----  \n",
      " 0   url                   16148 non-null  object \n",
      " 1   ads_id                16148 non-null  int64  \n",
      " 2   title                 16148 non-null  object \n",
      " 3   price                 16146 non-null  float64\n",
      " 4   type                  16148 non-null  object \n",
      " 5   land_area             16148 non-null  float64\n",
      " 6   building_area         16148 non-null  float64\n",
      " 7   bedrooms              16148 non-null  object \n",
      " 8   bathrooms             16148 non-null  object \n",
      " 9   maid_bedrooms         16148 non-null  int64  \n",
      " 10  maid_bathrooms        16148 non-null  int64  \n",
      " 11  ruang_tamu            16148 non-null  int64  \n",
      " 12  ruang_makan           16148 non-null  int64  \n",
      " 13  additional_rooms      12030 non-null  float64\n",
      " 14  floors                16148 non-null  int64  \n",
      " 15  certificate           4717 non-null   object \n",
      " 16  address               5340 non-null   object \n",
      " 17  address_road          16022 non-null  object \n",
      " 18  address_city          16022 non-null  object \n",
      " 19  address_district      16022 non-null  object \n",
      " 20  address_subdistrict   16022 non-null  object \n",
      " 21  garage_capacity       16148 non-null  int64  \n",
      " 22  carport_capacity      16148 non-null  int64  \n",
      " 23  facilities            4907 non-null   object \n",
      " 24  description           16148 non-null  object \n",
      " 25  posting_date          16148 non-null  object \n",
      " 26  posting_date_month    16148 non-null  int64  \n",
      " 27  posting_date_year     16148 non-null  int64  \n",
      " 28  poster                16148 non-null  object \n",
      " 29  electricity_capacity  6429 non-null   float64\n",
      " 30  house_orientation     4627 non-null   object \n",
      " 31  image_url             16148 non-null  object \n",
      "dtypes: float64(5), int64(10), object(17)\n",
      "memory usage: 3.9+ MB\n"
     ]
    }
   ],
   "source": [
    "df.info()"
   ]
  },
  {
   "cell_type": "code",
   "execution_count": 6,
   "id": "4d3b568a",
   "metadata": {},
   "outputs": [
    {
     "data": {
      "text/plain": [
       "url                      object\n",
       "ads_id                    int64\n",
       "title                    object\n",
       "price                   float64\n",
       "type                     object\n",
       "land_area               float64\n",
       "building_area           float64\n",
       "bedrooms                 object\n",
       "bathrooms                object\n",
       "maid_bedrooms             int64\n",
       "maid_bathrooms            int64\n",
       "ruang_tamu                int64\n",
       "ruang_makan               int64\n",
       "additional_rooms        float64\n",
       "floors                    int64\n",
       "certificate              object\n",
       "address                  object\n",
       "address_road             object\n",
       "address_city             object\n",
       "address_district         object\n",
       "address_subdistrict      object\n",
       "garage_capacity           int64\n",
       "carport_capacity          int64\n",
       "facilities               object\n",
       "description              object\n",
       "posting_date             object\n",
       "posting_date_month        int64\n",
       "posting_date_year         int64\n",
       "poster                   object\n",
       "electricity_capacity    float64\n",
       "house_orientation        object\n",
       "image_url                object\n",
       "dtype: object"
      ]
     },
     "execution_count": 6,
     "metadata": {},
     "output_type": "execute_result"
    }
   ],
   "source": [
    "df.dtypes"
   ]
  },
  {
   "cell_type": "code",
   "execution_count": 7,
   "id": "61f69b44",
   "metadata": {},
   "outputs": [
    {
     "data": {
      "text/plain": [
       "url                         0\n",
       "ads_id                      0\n",
       "title                       0\n",
       "price                       2\n",
       "type                        0\n",
       "land_area                   0\n",
       "building_area               0\n",
       "bedrooms                    0\n",
       "bathrooms                   0\n",
       "maid_bedrooms               0\n",
       "maid_bathrooms              0\n",
       "ruang_tamu                  0\n",
       "ruang_makan                 0\n",
       "additional_rooms         4118\n",
       "floors                      0\n",
       "certificate             11431\n",
       "address                 10808\n",
       "address_road              126\n",
       "address_city              126\n",
       "address_district          126\n",
       "address_subdistrict       126\n",
       "garage_capacity             0\n",
       "carport_capacity            0\n",
       "facilities              11241\n",
       "description                 0\n",
       "posting_date                0\n",
       "posting_date_month          0\n",
       "posting_date_year           0\n",
       "poster                      0\n",
       "electricity_capacity     9719\n",
       "house_orientation       11521\n",
       "image_url                   0\n",
       "dtype: int64"
      ]
     },
     "execution_count": 7,
     "metadata": {},
     "output_type": "execute_result"
    }
   ],
   "source": [
    "df.isnull().sum()"
   ]
  },
  {
   "cell_type": "code",
   "execution_count": 8,
   "id": "e91ba4a2",
   "metadata": {},
   "outputs": [
    {
     "data": {
      "text/plain": [
       "np.int64(0)"
      ]
     },
     "execution_count": 8,
     "metadata": {},
     "output_type": "execute_result"
    }
   ],
   "source": [
    "df.duplicated().sum()"
   ]
  },
  {
   "cell_type": "code",
   "execution_count": 9,
   "id": "720c5488",
   "metadata": {},
   "outputs": [
    {
     "name": "stderr",
     "output_type": "stream",
     "text": [
      "C:\\Users\\madea\\AppData\\Local\\Temp\\ipykernel_20128\\3097528939.py:20: UserWarning: Boolean Series key will be reindexed to match DataFrame index.\n",
      "  outliers = numeric_df_clean[(abs(z_df) > 3).any(axis=1)]\n"
     ]
    },
    {
     "ename": "IndexingError",
     "evalue": "Unalignable boolean Series provided as indexer (index of the boolean Series and of the indexed object do not match).",
     "output_type": "error",
     "traceback": [
      "\u001b[31m---------------------------------------------------------------------------\u001b[39m",
      "\u001b[31mIndexingError\u001b[39m                             Traceback (most recent call last)",
      "\u001b[36mCell\u001b[39m\u001b[36m \u001b[39m\u001b[32mIn[9]\u001b[39m\u001b[32m, line 20\u001b[39m\n\u001b[32m     17\u001b[39m z_df = pd.DataFrame(z_scores, columns=numeric_df_clean.columns)\n\u001b[32m     19\u001b[39m \u001b[38;5;66;03m# Identify rows where any value in the row has abs(z) > 3\u001b[39;00m\n\u001b[32m---> \u001b[39m\u001b[32m20\u001b[39m outliers = \u001b[43mnumeric_df_clean\u001b[49m\u001b[43m[\u001b[49m\u001b[43m(\u001b[49m\u001b[38;5;28;43mabs\u001b[39;49m\u001b[43m(\u001b[49m\u001b[43mz_df\u001b[49m\u001b[43m)\u001b[49m\u001b[43m \u001b[49m\u001b[43m>\u001b[49m\u001b[43m \u001b[49m\u001b[32;43m3\u001b[39;49m\u001b[43m)\u001b[49m\u001b[43m.\u001b[49m\u001b[43many\u001b[49m\u001b[43m(\u001b[49m\u001b[43maxis\u001b[49m\u001b[43m=\u001b[49m\u001b[32;43m1\u001b[39;49m\u001b[43m)\u001b[49m\u001b[43m]\u001b[49m\n\u001b[32m     22\u001b[39m \u001b[38;5;66;03m# Print results\u001b[39;00m\n\u001b[32m     23\u001b[39m \u001b[38;5;28mprint\u001b[39m(\u001b[33m\"\u001b[39m\u001b[33mOutlier rows based on Z-score:\u001b[39m\u001b[33m\"\u001b[39m)\n",
      "\u001b[36mFile \u001b[39m\u001b[32mc:\\Users\\madea\\AppData\\Local\\Programs\\Python\\Python311\\Lib\\site-packages\\pandas\\core\\frame.py:4093\u001b[39m, in \u001b[36mDataFrame.__getitem__\u001b[39m\u001b[34m(self, key)\u001b[39m\n\u001b[32m   4091\u001b[39m \u001b[38;5;66;03m# Do we have a (boolean) 1d indexer?\u001b[39;00m\n\u001b[32m   4092\u001b[39m \u001b[38;5;28;01mif\u001b[39;00m com.is_bool_indexer(key):\n\u001b[32m-> \u001b[39m\u001b[32m4093\u001b[39m     \u001b[38;5;28;01mreturn\u001b[39;00m \u001b[38;5;28;43mself\u001b[39;49m\u001b[43m.\u001b[49m\u001b[43m_getitem_bool_array\u001b[49m\u001b[43m(\u001b[49m\u001b[43mkey\u001b[49m\u001b[43m)\u001b[49m\n\u001b[32m   4095\u001b[39m \u001b[38;5;66;03m# We are left with two options: a single key, and a collection of keys,\u001b[39;00m\n\u001b[32m   4096\u001b[39m \u001b[38;5;66;03m# We interpret tuples as collections only for non-MultiIndex\u001b[39;00m\n\u001b[32m   4097\u001b[39m is_single_key = \u001b[38;5;28misinstance\u001b[39m(key, \u001b[38;5;28mtuple\u001b[39m) \u001b[38;5;129;01mor\u001b[39;00m \u001b[38;5;129;01mnot\u001b[39;00m is_list_like(key)\n",
      "\u001b[36mFile \u001b[39m\u001b[32mc:\\Users\\madea\\AppData\\Local\\Programs\\Python\\Python311\\Lib\\site-packages\\pandas\\core\\frame.py:4149\u001b[39m, in \u001b[36mDataFrame._getitem_bool_array\u001b[39m\u001b[34m(self, key)\u001b[39m\n\u001b[32m   4143\u001b[39m     \u001b[38;5;28;01mraise\u001b[39;00m \u001b[38;5;167;01mValueError\u001b[39;00m(\n\u001b[32m   4144\u001b[39m         \u001b[33mf\u001b[39m\u001b[33m\"\u001b[39m\u001b[33mItem wrong length \u001b[39m\u001b[38;5;132;01m{\u001b[39;00m\u001b[38;5;28mlen\u001b[39m(key)\u001b[38;5;132;01m}\u001b[39;00m\u001b[33m instead of \u001b[39m\u001b[38;5;132;01m{\u001b[39;00m\u001b[38;5;28mlen\u001b[39m(\u001b[38;5;28mself\u001b[39m.index)\u001b[38;5;132;01m}\u001b[39;00m\u001b[33m.\u001b[39m\u001b[33m\"\u001b[39m\n\u001b[32m   4145\u001b[39m     )\n\u001b[32m   4147\u001b[39m \u001b[38;5;66;03m# check_bool_indexer will throw exception if Series key cannot\u001b[39;00m\n\u001b[32m   4148\u001b[39m \u001b[38;5;66;03m# be reindexed to match DataFrame rows\u001b[39;00m\n\u001b[32m-> \u001b[39m\u001b[32m4149\u001b[39m key = \u001b[43mcheck_bool_indexer\u001b[49m\u001b[43m(\u001b[49m\u001b[38;5;28;43mself\u001b[39;49m\u001b[43m.\u001b[49m\u001b[43mindex\u001b[49m\u001b[43m,\u001b[49m\u001b[43m \u001b[49m\u001b[43mkey\u001b[49m\u001b[43m)\u001b[49m\n\u001b[32m   4151\u001b[39m \u001b[38;5;28;01mif\u001b[39;00m key.all():\n\u001b[32m   4152\u001b[39m     \u001b[38;5;28;01mreturn\u001b[39;00m \u001b[38;5;28mself\u001b[39m.copy(deep=\u001b[38;5;28;01mNone\u001b[39;00m)\n",
      "\u001b[36mFile \u001b[39m\u001b[32mc:\\Users\\madea\\AppData\\Local\\Programs\\Python\\Python311\\Lib\\site-packages\\pandas\\core\\indexing.py:2662\u001b[39m, in \u001b[36mcheck_bool_indexer\u001b[39m\u001b[34m(index, key)\u001b[39m\n\u001b[32m   2660\u001b[39m indexer = result.index.get_indexer_for(index)\n\u001b[32m   2661\u001b[39m \u001b[38;5;28;01mif\u001b[39;00m -\u001b[32m1\u001b[39m \u001b[38;5;129;01min\u001b[39;00m indexer:\n\u001b[32m-> \u001b[39m\u001b[32m2662\u001b[39m     \u001b[38;5;28;01mraise\u001b[39;00m IndexingError(\n\u001b[32m   2663\u001b[39m         \u001b[33m\"\u001b[39m\u001b[33mUnalignable boolean Series provided as \u001b[39m\u001b[33m\"\u001b[39m\n\u001b[32m   2664\u001b[39m         \u001b[33m\"\u001b[39m\u001b[33mindexer (index of the boolean Series and of \u001b[39m\u001b[33m\"\u001b[39m\n\u001b[32m   2665\u001b[39m         \u001b[33m\"\u001b[39m\u001b[33mthe indexed object do not match).\u001b[39m\u001b[33m\"\u001b[39m\n\u001b[32m   2666\u001b[39m     )\n\u001b[32m   2668\u001b[39m result = result.take(indexer)\n\u001b[32m   2670\u001b[39m \u001b[38;5;66;03m# fall through for boolean\u001b[39;00m\n",
      "\u001b[31mIndexingError\u001b[39m: Unalignable boolean Series provided as indexer (index of the boolean Series and of the indexed object do not match)."
     ]
    }
   ],
   "source": [
    "import pandas as pd\n",
    "from scipy.stats import zscore\n",
    "\n",
    "# Load data\n",
    "df = pd.read_csv(\"jabodetabeksur_olx_housing_dataset.csv\")\n",
    "\n",
    "# Select only numeric columns\n",
    "numeric_df = df.select_dtypes(include=['number'])\n",
    "\n",
    "# Drop rows with NaNs to avoid skewing Z-scores\n",
    "numeric_df_clean = numeric_df.dropna()\n",
    "\n",
    "# Compute Z-scores\n",
    "z_scores = zscore(numeric_df_clean)\n",
    "\n",
    "# Convert to DataFrame\n",
    "z_df = pd.DataFrame(z_scores, columns=numeric_df_clean.columns)\n",
    "\n",
    "# Identify rows where any value in the row has abs(z) > 3\n",
    "outliers = numeric_df_clean[(abs(z_df) > 3).any(axis=1)]\n",
    "\n",
    "# Print results\n",
    "print(\"Outlier rows based on Z-score:\")\n",
    "print(outliers)\n"
   ]
  }
 ],
 "metadata": {
  "kernelspec": {
   "display_name": "Python 3",
   "language": "python",
   "name": "python3"
  },
  "language_info": {
   "codemirror_mode": {
    "name": "ipython",
    "version": 3
   },
   "file_extension": ".py",
   "mimetype": "text/x-python",
   "name": "python",
   "nbconvert_exporter": "python",
   "pygments_lexer": "ipython3",
   "version": "3.11.0"
  }
 },
 "nbformat": 4,
 "nbformat_minor": 5
}
